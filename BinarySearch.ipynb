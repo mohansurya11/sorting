{
  "nbformat": 4,
  "nbformat_minor": 0,
  "metadata": {
    "colab": {
      "name": "BinarySearch.ipynb",
      "provenance": [],
      "authorship_tag": "ABX9TyMltGWXQjU/NOco/OApPPgE",
      "include_colab_link": true
    },
    "kernelspec": {
      "name": "python3",
      "display_name": "Python 3"
    },
    "language_info": {
      "name": "python"
    }
  },
  "cells": [
    {
      "cell_type": "markdown",
      "metadata": {
        "id": "view-in-github",
        "colab_type": "text"
      },
      "source": [
        "<a href=\"https://colab.research.google.com/github/mohansurya11/sorting/blob/main/BinarySearch.ipynb\" target=\"_parent\"><img src=\"https://colab.research.google.com/assets/colab-badge.svg\" alt=\"Open In Colab\"/></a>"
      ]
    },
    {
      "cell_type": "code",
      "execution_count": null,
      "metadata": {
        "id": "NajHTkhSdXVF"
      },
      "outputs": [],
      "source": [
        "Binary Search"
      ]
    },
    {
      "cell_type": "code",
      "source": [
        "def binarysearch(li,k):\n",
        "  lower=0\n",
        "  upper=len(li)-1\n",
        "  while lower<=upper:\n",
        "    mid=(lower+upper)//2\n",
        "    if(li[mid]==k):\n",
        "      \n",
        "      return mid\n",
        "    else:\n",
        "      if(li[mid] < k):\n",
        "        lower=mid+1\n",
        "      else:\n",
        "        upper=mid-1\n",
        "  return -1\n",
        "li=[11,22,33,44,55,66]\n",
        "\n",
        "k=22\n",
        "\n",
        "res=binarysearch(li,k)\n",
        "if res!=-1:\n",
        "  print(\"Element index is\",res)\n",
        "  \n",
        "else:\n",
        "  print(\"Element not found\")\n"
      ],
      "metadata": {
        "colab": {
          "base_uri": "https://localhost:8080/"
        },
        "id": "ptmRnOludfTJ",
        "outputId": "5a9034a9-a430-4214-a9c5-a5c546084258"
      },
      "execution_count": 27,
      "outputs": [
        {
          "output_type": "stream",
          "name": "stdout",
          "text": [
            "Element index is 1\n"
          ]
        }
      ]
    },
    {
      "cell_type": "markdown",
      "source": [
        ""
      ],
      "metadata": {
        "id": "iRX2tMOVdcej"
      }
    }
  ]
}