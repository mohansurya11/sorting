{
  "nbformat": 4,
  "nbformat_minor": 0,
  "metadata": {
    "colab": {
      "name": "Bubblesort.ipynb",
      "provenance": [],
      "authorship_tag": "ABX9TyOZBQRwEL4bm2PEEhHsCtYt",
      "include_colab_link": true
    },
    "kernelspec": {
      "name": "python3",
      "display_name": "Python 3"
    },
    "language_info": {
      "name": "python"
    }
  },
  "cells": [
    {
      "cell_type": "markdown",
      "metadata": {
        "id": "view-in-github",
        "colab_type": "text"
      },
      "source": [
        "<a href=\"https://colab.research.google.com/github/mohansurya11/sorting/blob/main/Bubblesort.ipynb\" target=\"_parent\"><img src=\"https://colab.research.google.com/assets/colab-badge.svg\" alt=\"Open In Colab\"/></a>"
      ]
    },
    {
      "cell_type": "code",
      "execution_count": null,
      "metadata": {
        "id": "HPHZp1-ykTDa"
      },
      "outputs": [],
      "source": [
        ""
      ]
    },
    {
      "cell_type": "markdown",
      "source": [
        "Bubble dort is the simplest sorting algorithm that works repeatedly swapping the adjacent elements if they are in wrong order.\n"
      ],
      "metadata": {
        "id": "GfEqhpuFlDKt"
      }
    },
    {
      "cell_type": "code",
      "source": [
        "def bubblesort(list):\n",
        "  n=len(list)\n",
        "  for i in range(n):\n",
        "    for j in range(0,n-i-1):\n",
        "      if list[j]>list[j+1]:\n",
        "        list[j],list[j+1]=list[j+1],list[j]\n",
        "\n",
        "\n",
        "list=[54,34,15,12,25,1,5]\n",
        "bubblesort(list)\n",
        "for i in list:\n",
        "  print(i,end=\" \")"
      ],
      "metadata": {
        "colab": {
          "base_uri": "https://localhost:8080/"
        },
        "id": "mM8x3cnllX_W",
        "outputId": "11cabd78-3ad9-440d-f59f-5faa636ab916"
      },
      "execution_count": 4,
      "outputs": [
        {
          "output_type": "stream",
          "name": "stdout",
          "text": [
            "1 5 12 15 25 34 54 "
          ]
        }
      ]
    }
  ]
}