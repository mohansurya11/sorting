{
  "nbformat": 4,
  "nbformat_minor": 0,
  "metadata": {
    "colab": {
      "name": "LinearSearch.ipynb",
      "provenance": [],
      "authorship_tag": "ABX9TyMWwmzAUu/z55N2sAVJYy02",
      "include_colab_link": true
    },
    "kernelspec": {
      "name": "python3",
      "display_name": "Python 3"
    },
    "language_info": {
      "name": "python"
    }
  },
  "cells": [
    {
      "cell_type": "markdown",
      "metadata": {
        "id": "view-in-github",
        "colab_type": "text"
      },
      "source": [
        "<a href=\"https://colab.research.google.com/github/mohansurya11/sorting/blob/main/LinearSearch.ipynb\" target=\"_parent\"><img src=\"https://colab.research.google.com/assets/colab-badge.svg\" alt=\"Open In Colab\"/></a>"
      ]
    },
    {
      "cell_type": "code",
      "execution_count": null,
      "metadata": {
        "id": "ay_CR5TBan3y"
      },
      "outputs": [],
      "source": [
        ""
      ]
    },
    {
      "cell_type": "markdown",
      "source": [
        "Linear Search"
      ],
      "metadata": {
        "id": "fT-7txL7apz1"
      }
    },
    {
      "cell_type": "code",
      "source": [
        "def linearsearch(list,k):\n",
        "  for i in range(len(list)):\n",
        "    if list[i]==k:\n",
        "      return i\n",
        "    \n",
        "  return -1\n",
        "\n",
        "list=[23,54,32,12,45]\n",
        "k=12\n",
        "res=linearsearch(list,k)\n",
        "if(res==-1):\n",
        "  print(\"Element not found\")\n",
        "else:\n",
        "  print(\"element index is:\",res)"
      ],
      "metadata": {
        "colab": {
          "base_uri": "https://localhost:8080/"
        },
        "id": "ZM2P3ftlazhP",
        "outputId": "aadc5889-bec6-46f2-ccf2-3a2c1acca80a"
      },
      "execution_count": 6,
      "outputs": [
        {
          "output_type": "stream",
          "name": "stdout",
          "text": [
            "element index is: 3\n"
          ]
        }
      ]
    }
  ]
}