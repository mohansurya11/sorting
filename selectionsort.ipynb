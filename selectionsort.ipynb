{
  "nbformat": 4,
  "nbformat_minor": 0,
  "metadata": {
    "colab": {
      "name": "selectionsort.ipynb",
      "provenance": [],
      "collapsed_sections": [],
      "authorship_tag": "ABX9TyMWuUX5+CXsU0yzh8KNa6G/",
      "include_colab_link": true
    },
    "kernelspec": {
      "name": "python3",
      "display_name": "Python 3"
    },
    "language_info": {
      "name": "python"
    }
  },
  "cells": [
    {
      "cell_type": "markdown",
      "metadata": {
        "id": "view-in-github",
        "colab_type": "text"
      },
      "source": [
        "<a href=\"https://colab.research.google.com/github/mohansurya11/sorting/blob/main/selectionsort.ipynb\" target=\"_parent\"><img src=\"https://colab.research.google.com/assets/colab-badge.svg\" alt=\"Open In Colab\"/></a>"
      ]
    },
    {
      "cell_type": "markdown",
      "source": [
        ""
      ],
      "metadata": {
        "id": "-LnkxoG_Sm-N"
      }
    },
    {
      "cell_type": "markdown",
      "source": [
        "The selection sort algorithm sorts an array by repeadtly finding minimum element from unsorted part and putting in at the beginnning.\n",
        "\n",
        "It maintains two subarray\n",
        "1.The subarray which is already sorted.\n",
        "2.Remaining sub array which is unsorted.\n"
      ],
      "metadata": {
        "id": "mnRGhUapSp9x"
      }
    },
    {
      "cell_type": "code",
      "source": [
        "def selectionSort(nums):\n",
        "  for i in range(len(nums)):\n",
        "    min=i\n",
        "    for j in range(i+1,len(nums)):\n",
        "      if (nums[min]>nums[j]):\n",
        "        min=j\n",
        "    nums[i],nums[min]=nums[min],nums[i]\n",
        "\n",
        "nums=list(map(int,input().split()))\n",
        "#nums=[65,25,12,22,11]\n",
        "selectionSort(nums)\n",
        "for i in range(len(nums)):\n",
        "  print(nums[i],end=\" \")"
      ],
      "metadata": {
        "colab": {
          "base_uri": "https://localhost:8080/"
        },
        "id": "hj10NODiTPjn",
        "outputId": "1f505eed-cdc9-4cca-f14b-7d99b8b6dcee"
      },
      "execution_count": null,
      "outputs": [
        {
          "output_type": "stream",
          "name": "stdout",
          "text": [
            "65 25 12 22 11\n",
            "11 12 22 25 65 "
          ]
        }
      ]
    }
  ]
}