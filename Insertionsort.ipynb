{
  "nbformat": 4,
  "nbformat_minor": 0,
  "metadata": {
    "colab": {
      "name": "Insertionsort.ipynb",
      "provenance": [],
      "collapsed_sections": [],
      "authorship_tag": "ABX9TyO1PH5o7aeUwD26Zl2CkyyR",
      "include_colab_link": true
    },
    "kernelspec": {
      "name": "python3",
      "display_name": "Python 3"
    },
    "language_info": {
      "name": "python"
    }
  },
  "cells": [
    {
      "cell_type": "markdown",
      "metadata": {
        "id": "view-in-github",
        "colab_type": "text"
      },
      "source": [
        "<a href=\"https://colab.research.google.com/github/mohansurya11/sorting/blob/main/Insertionsort.ipynb\" target=\"_parent\"><img src=\"https://colab.research.google.com/assets/colab-badge.svg\" alt=\"Open In Colab\"/></a>"
      ]
    },
    {
      "cell_type": "markdown",
      "source": [
        "Insertion sort is a simple algorithm that works the way we sort playing cards in our hand.\n",
        "It is useful only for small datasets"
      ],
      "metadata": {
        "id": "PWhUPKYKVnQ_"
      }
    },
    {
      "cell_type": "code",
      "source": [
        "def insertionsort(nums):\n",
        "  for i in range(1,len(nums)):\n",
        "    key=nums[i]\n",
        "    j=i-1\n",
        "    \n",
        "    while j>=0 and key<nums[j]:\n",
        "        nums[j+1]=nums[j]\n",
        "        j-=1\n",
        "\n",
        "      \n",
        "    nums[j+1]=key\n",
        "nums=[92,13,43,5,6,12]\n",
        "insertionsort(nums)\n",
        "for i in range(len(nums)):\n",
        "  print(nums[i])"
      ],
      "metadata": {
        "colab": {
          "base_uri": "https://localhost:8080/"
        },
        "id": "cwjCA9A_V9ya",
        "outputId": "6eddab21-fd3d-4b9e-9f25-1cbe5b482782"
      },
      "execution_count": 8,
      "outputs": [
        {
          "output_type": "stream",
          "name": "stdout",
          "text": [
            "5\n",
            "6\n",
            "12\n",
            "13\n",
            "43\n",
            "92\n"
          ]
        }
      ]
    }
  ]
}